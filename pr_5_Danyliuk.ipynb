{
  "nbformat": 4,
  "nbformat_minor": 0,
  "metadata": {
    "colab": {
      "provenance": []
    },
    "kernelspec": {
      "name": "python3",
      "display_name": "Python 3"
    },
    "language_info": {
      "name": "python"
    }
  },
  "cells": [
    {
      "cell_type": "markdown",
      "source": [
        "# I. OOP"
      ],
      "metadata": {
        "id": "5qV_sehzFCTp"
      }
    },
    {
      "cell_type": "markdown",
      "source": [
        "1. (6б). Створіть клас Building, додайте три атрибути, один з яких має значення за замовчуванням та два методи на свій розсуд."
      ],
      "metadata": {
        "id": "tx_U_hOALyfg"
      }
    },
    {
      "cell_type": "code",
      "source": [
        "class Building:\n",
        "    def __init__(self, what_am_i_doing, why, where='university'):\n",
        "        self.where = where\n",
        "        self.what_am_i_doing = what_am_i_doing\n",
        "        self.why = why\n",
        "\n",
        "    def show_me_where_i_am_and_what_am_i_doing(self):\n",
        "        print(f'At the {self.where}, {self.what_am_i_doing}')\n",
        "\n",
        "    def why_am_i_here(self):\n",
        "        print(f'Why are you there? Because {self.why}')"
      ],
      "metadata": {
        "id": "-Vf895KaL88N"
      },
      "execution_count": 5,
      "outputs": []
    },
    {
      "cell_type": "markdown",
      "source": [
        "2. (2б). Створіть два обʼєкти цього класу, де один з обʼєктів створюється із дефолтним значенням атрибуту. На одному обʼєкті отримайте значення його атрибуту, а на іншому викличте один з його методів."
      ],
      "metadata": {
        "id": "X_UlOMB0L93w"
      }
    },
    {
      "cell_type": "code",
      "source": [
        "university = Building('I\\'m fighting for survival', 'exams come faster than I can study')\n",
        "church = Building('I\\'m lighting a candle', 'only a miracle can help me defend my thesis', 'church')\n",
        "mental_hospital = Building('I\\'m getting ready to move', 'that\\'s the only logical place to go after all of exams', 'mental hospital')\n",
        "\n",
        "print(\"Where am I? At the\", university.where)\n",
        "university.show_me_where_i_am_and_what_am_i_doing()\n",
        "\n",
        "print(\"Where am I? \")\n",
        "church.show_me_where_i_am_and_what_am_i_doing()\n",
        "church.why_am_i_here()"
      ],
      "metadata": {
        "id": "7gBu0ESOMCpG",
        "colab": {
          "base_uri": "https://localhost:8080/"
        },
        "outputId": "d717ccf0-a68b-44d7-e82b-2d9532e13721"
      },
      "execution_count": 11,
      "outputs": [
        {
          "output_type": "stream",
          "name": "stdout",
          "text": [
            "Where am I? At the university\n",
            "At the university, I'm fighting for survival\n",
            "Where am I? \n",
            "At the church, I'm lighting a candle\n",
            "Why are you there? Because only a miracle can help me defend my thesis\n"
          ]
        }
      ]
    },
    {
      "cell_type": "markdown",
      "source": [
        "3. (5б). Створіть клас, де атрибути мають різні рівні доступу. Спробуйте отримати їхні значення та опишіть результати."
      ],
      "metadata": {
        "id": "HoqSCZt1MHn5"
      }
    },
    {
      "cell_type": "code",
      "source": [
        "class Building:\n",
        "    def __init__(self, what_am_i_doing, why, where='university'):\n",
        "        self.__where = where                      # Приватний атрибут\n",
        "        self._what_am_i_doing = what_am_i_doing   # Захищений атрибут\n",
        "        self.why = why                            # Публічний атрибут\n",
        "\n",
        "    def show_me_where_i_am_and_what_am_i_doing(self):\n",
        "        print(f'At the {self.__where}, {self._what_am_i_doing}')\n",
        "\n",
        "    def why_am_i_here(self):\n",
        "        print(f'Why are you there? Because {self.why}')\n",
        "\n",
        "    # Методи для доступу до приватного атрибута\n",
        "    def get_where(self):\n",
        "        return self.__where\n",
        "\n",
        "mental_hospital = Building('I\\'m getting ready to move', 'that\\'s the only logical place to go after all of exams', 'mental hospital')\n",
        "\n",
        "print(mental_hospital.why)\n",
        "print(mental_hospital._what_am_i_doing)\n",
        "print(mental_hospital.__where)"
      ],
      "metadata": {
        "id": "r9b3vJxBMSPV",
        "colab": {
          "base_uri": "https://localhost:8080/",
          "height": 211
        },
        "outputId": "ac9b99c9-6ea5-4cad-cf25-33347124b337"
      },
      "execution_count": 12,
      "outputs": [
        {
          "output_type": "stream",
          "name": "stdout",
          "text": [
            "that's the only logical place to go after all of exams\n",
            "I'm getting ready to move\n"
          ]
        },
        {
          "output_type": "error",
          "ename": "AttributeError",
          "evalue": "'Building' object has no attribute '__where'",
          "traceback": [
            "\u001b[0;31m---------------------------------------------------------------------------\u001b[0m",
            "\u001b[0;31mAttributeError\u001b[0m                            Traceback (most recent call last)",
            "\u001b[0;32m<ipython-input-12-2e2200ae7195>\u001b[0m in \u001b[0;36m<cell line: 0>\u001b[0;34m()\u001b[0m\n\u001b[1;32m     19\u001b[0m \u001b[0mprint\u001b[0m\u001b[0;34m(\u001b[0m\u001b[0mmental_hospital\u001b[0m\u001b[0;34m.\u001b[0m\u001b[0mwhy\u001b[0m\u001b[0;34m)\u001b[0m\u001b[0;34m\u001b[0m\u001b[0;34m\u001b[0m\u001b[0m\n\u001b[1;32m     20\u001b[0m \u001b[0mprint\u001b[0m\u001b[0;34m(\u001b[0m\u001b[0mmental_hospital\u001b[0m\u001b[0;34m.\u001b[0m\u001b[0m_what_am_i_doing\u001b[0m\u001b[0;34m)\u001b[0m\u001b[0;34m\u001b[0m\u001b[0;34m\u001b[0m\u001b[0m\n\u001b[0;32m---> 21\u001b[0;31m \u001b[0mprint\u001b[0m\u001b[0;34m(\u001b[0m\u001b[0mmental_hospital\u001b[0m\u001b[0;34m.\u001b[0m\u001b[0m__where\u001b[0m\u001b[0;34m)\u001b[0m\u001b[0;34m\u001b[0m\u001b[0;34m\u001b[0m\u001b[0m\n\u001b[0m",
            "\u001b[0;31mAttributeError\u001b[0m: 'Building' object has no attribute '__where'"
          ]
        }
      ]
    },
    {
      "cell_type": "code",
      "source": [
        "print(\"Where am I? At the\", mental_hospital.get_where())\n",
        "mental_hospital.why_am_i_here()"
      ],
      "metadata": {
        "colab": {
          "base_uri": "https://localhost:8080/"
        },
        "id": "0e6hkKJRl99X",
        "outputId": "58ab3db0-5195-475a-9b42-9ad27ef5c16b"
      },
      "execution_count": 15,
      "outputs": [
        {
          "output_type": "stream",
          "name": "stdout",
          "text": [
            "Where am I? At the mental hospital\n",
            "Why are you there? Because that's the only logical place to go after all of exams\n"
          ]
        }
      ]
    },
    {
      "cell_type": "markdown",
      "source": [
        "**why** у нас публічний і його можна викликати і побачити\n",
        "\n",
        "**_what_am_i_doing** у нас захищений, якщо викликати його то значення можна побачити\n",
        "\n",
        "**__where** є приватним, за спроби виклику відповість помилкою про те, що такого атрибута немає, але насправді він існує (для перевірки та виводу додала **get_where()**)\n",
        "     "
      ],
      "metadata": {
        "id": "rNc2Z_hpmWtZ"
      }
    },
    {
      "cell_type": "markdown",
      "source": [
        "4. (7б). Як ви розумієте термін self? Для чого використовується метод __init __?"
      ],
      "metadata": {
        "id": "5op2m2vgMSkZ"
      }
    },
    {
      "cell_type": "markdown",
      "source": [
        "Термін **self** використовується для посилання на конкретний об'єкт, який створюється на основі класу. У методах класу self вказує на поточний об'єкт, через який викликається метод. Це дає можливість звертатися до атрибутів та методів класу в межах самого класу.\n",
        "\n",
        "Метод **__init__** — це спеціальний метод, який автоматично викликається, коли створюється новий об'єкт цього класу. Він служить як конструктор класу і використовується для ініціалізації атрибутів об'єкта, тобто для встановлення їхніх початкових значень."
      ],
      "metadata": {
        "id": "DyiPqNRvMasx"
      }
    },
    {
      "cell_type": "markdown",
      "source": [
        "5. (9б). Створіть клас 3D-фігура без атрибутів, з методом get_volume для отримання об'єму фігури, що повертає 0 та __add __, який приймає self та other в якості аргументів, а повертає суму об'ємів 3d-фігур self та other."
      ],
      "metadata": {
        "id": "-6X8EGfjMd2y"
      }
    },
    {
      "cell_type": "code",
      "source": [
        "class ThreeDFigure:\n",
        "    def  get_volume(self):\n",
        "        return 0\n",
        "\n",
        "    def __add__(self, other):\n",
        "        return self.get_volume() + other.get_volume()"
      ],
      "metadata": {
        "id": "4rvO_wYUMaEr"
      },
      "execution_count": 17,
      "outputs": []
    },
    {
      "cell_type": "markdown",
      "source": [
        "6. (11б). Створіть 2 дочірніх класи від 3d-фігура: Циліндр та Куб, які мають атрибути, необхідні для розрахунку об'єму. Визначте метод get_volume в кожному з них так, щоби вони розраховували об'єм у залежності від формули для кожного типу фігури. Створіть обʼєкт класу Циліндр та обʼєкт класу Куб. Виконайте операцію суми за допомогою оператора + між ними, аби знайти сумарний об'єм."
      ],
      "metadata": {
        "id": "SFcKnnv5Mo_z"
      }
    },
    {
      "cell_type": "code",
      "source": [
        "class Cylinder(ThreeDFigure):\n",
        "    def __init__(self, r, height):\n",
        "        self.r = r\n",
        "        self.height = height\n",
        "\n",
        "    def get_volume(self):\n",
        "        p = 3.14\n",
        "        return p * (self.r ** 2) * self.height\n",
        "\n",
        "\n",
        "class Cube(ThreeDFigure):\n",
        "    def __init__(self, side_length):\n",
        "        self.side_length = side_length\n",
        "\n",
        "    def get_volume(self):\n",
        "        return self.side_length ** 3\n",
        "\n",
        "cylinder = Cylinder(5, 10)\n",
        "cube = Cube(4)\n",
        "\n",
        "total_volume = cylinder + cube\n",
        "\n",
        "print(\"Total volume:\", total_volume)"
      ],
      "metadata": {
        "id": "H3GVNr69Muf3",
        "colab": {
          "base_uri": "https://localhost:8080/"
        },
        "outputId": "c1142265-3cbc-4958-a192-7b3f595a5714"
      },
      "execution_count": 18,
      "outputs": [
        {
          "output_type": "stream",
          "name": "stdout",
          "text": [
            "Total volume: 849.0\n"
          ]
        }
      ]
    },
    {
      "cell_type": "markdown",
      "source": [
        "7. (3б). Продемонструйте різницю між isinstance та issubclass."
      ],
      "metadata": {
        "id": "HCvR206YMvLK"
      }
    },
    {
      "cell_type": "code",
      "source": [
        "class Animal:\n",
        "    pass\n",
        "\n",
        "class Cat(Animal):\n",
        "    pass\n",
        "\n",
        "family_of_cats = Animal()\n",
        "sunny = Cat() #Sunny - ім'я моєї кішки)\n",
        "\n",
        "# Перевірка, чи family_of_cats є екземпляром класу Animal. Виведе: True\n",
        "print(isinstance(family_of_cats, Animal))\n",
        "\n",
        "# Перевірка, чи Sunny є екземпляром класу Cat. Виведе: True\n",
        "print(isinstance(sunny, Cat))\n",
        "\n",
        "# Перевірка, чи Sunny є екземпляром класу Animal (або будь-якого його підкласу). Виведе: True, оскільки Cat успадковується від Animal\n",
        "print(isinstance(sunny, Animal))\n",
        "\n",
        "# Перевірка, чи клас Cat є підкласом класу Animal. Виведе: True\n",
        "print(issubclass(Cat, Animal))\n",
        "\n",
        "# Перевірка, чи клас Animal є підкласом класу Cat. Виведе: False, оскільки Animal не успадковується від Cat\n",
        "print(issubclass(Animal, Cat))\n"
      ],
      "metadata": {
        "id": "L_V1bBvDM0GN"
      },
      "execution_count": null,
      "outputs": []
    },
    {
      "cell_type": "markdown",
      "source": [
        "8. (13б). Створіть клас EWallet з приватними атрибутами balance та id. Реалізуйте методи поповнення та зняття коштів, забезпечивши належну інкапсуляцію. Підказка: використовуйте декоратори property та setter."
      ],
      "metadata": {
        "id": "jjsaBZ-iM0Qq"
      }
    },
    {
      "cell_type": "code",
      "source": [
        "class EWallet:\n",
        "    def __init__(self, balance, id):\n",
        "        self.__balance = balance\n",
        "        self.__id = id\n",
        "\n",
        "    @property\n",
        "    def balance(self):\n",
        "        return self.__balance\n",
        "\n",
        "    @balance.setter\n",
        "    def balance(self, value):\n",
        "        if value < 0:\n",
        "            print(\"Balance cannot be negative.\")\n",
        "        else:\n",
        "            self.__balance = value\n",
        "\n",
        "    def deposit(self, amount):\n",
        "        if amount <= 0:\n",
        "            print(\"Deposit amount must be positive.\")\n",
        "        else:\n",
        "            self.__balance += amount\n",
        "            print(f\"Deposited {amount}. New balance is {self.__balance}.\")\n",
        "\n",
        "    def withdraw(self, amount):\n",
        "        if amount <= 0:\n",
        "            print(\"Withdrawal amount must be positive.\")\n",
        "        elif amount > self.__balance:\n",
        "            print(\"Insufficient funds.\")\n",
        "        else:\n",
        "            self.__balance -= amount\n",
        "            print(f\"Withdrew {amount}. New balance is {self.__balance}.\")\n",
        "\n",
        "    @property\n",
        "    def id(self):\n",
        "        return \"****\" + self.__id[-4:]\n",
        "\n",
        "\n",
        "ewallet = EWallet(1000, '00001111')\n",
        "print(ewallet.balance)\n",
        "ewallet.deposit(300)\n",
        "ewallet.withdraw(150)\n",
        "print(ewallet.id)"
      ],
      "metadata": {
        "id": "xCvZ7lh8M7YA",
        "colab": {
          "base_uri": "https://localhost:8080/"
        },
        "outputId": "d96f99fa-2718-431e-8d45-60e842d65be5"
      },
      "execution_count": 20,
      "outputs": [
        {
          "output_type": "stream",
          "name": "stdout",
          "text": [
            "1000\n",
            "Deposited 300. New balance is 1300.\n",
            "Withdrew 150. New balance is 1150.\n",
            "****1111\n"
          ]
        }
      ]
    },
    {
      "cell_type": "markdown",
      "source": [
        "9. (11б). Створіть клас ShoppingCart, який містить список об'єктів типу Item. Реалізуйте методи для додавання айтемів, їх видалення та відображення списку айтемів."
      ],
      "metadata": {
        "id": "tIzL2SJTM8ft"
      }
    },
    {
      "cell_type": "code",
      "source": [
        "class Item:\n",
        "    def __init__(self, name, price):\n",
        "        self.name = name\n",
        "        self.price = price\n",
        "\n",
        "    def __str__(self):\n",
        "        return f\"{self.name} - {self.price}\"\n",
        "\n",
        "\n",
        "class ShoppingCart:\n",
        "    def __init__(self):\n",
        "        self.items = []\n",
        "\n",
        "    def add_item(self, item):\n",
        "        self.items.append(item)\n",
        "        print(f\"Item '{item.name}' added to the shopping cart.\")\n",
        "\n",
        "    def remove_item(self, name):\n",
        "        for item in self.items:\n",
        "            if item.name == name:\n",
        "                self.items.remove(item)\n",
        "                print(f\"Item '{name}' removed.\")\n",
        "                return\n",
        "        print(f\"Item '{name}' not found.\")\n",
        "\n",
        "    def display_items(self):\n",
        "        if not self.items:\n",
        "            print(\"Shopping cart is empty.\")\n",
        "        else:\n",
        "            for item in self.items:\n",
        "                print(item)\n",
        "\n",
        "\n",
        "\n",
        "cart = ShoppingCart()\n",
        "\n",
        "cart.add_item(Item(\"Vitamin MgB6\", 245.99))\n",
        "cart.add_item(Item(\"Validol\", 50.49))\n",
        "print(\"Shopping cart:\")\n",
        "cart.display_items()\n",
        "\n",
        "cart.remove_item(\"Vitamin MgB6\")\n",
        "print(\"Shopping cart:\")\n",
        "cart.display_items()"
      ],
      "metadata": {
        "id": "HWxfJKLtNAUZ",
        "colab": {
          "base_uri": "https://localhost:8080/"
        },
        "outputId": "a46812cb-6cd0-4a83-9fd8-6c3e1264717d"
      },
      "execution_count": 25,
      "outputs": [
        {
          "output_type": "stream",
          "name": "stdout",
          "text": [
            "Item 'Vitamin MgB6' added to the shopping cart.\n",
            "Item 'Validol' added to the shopping cart.\n",
            "Shopping cart:\n",
            "Vitamin MgB6 - 245.99\n",
            "Validol - 50.49\n",
            "Item 'Vitamin MgB6' removed.\n",
            "Shopping cart:\n",
            "Validol - 50.49\n"
          ]
        }
      ]
    },
    {
      "cell_type": "markdown",
      "source": [
        "10. (13б). Створіть клас Vehicle з атрибутами brand (manufacturer) та production_age. Створіть ще один клас Engine з такими атрибутами, як type (ex. petrol) та size (volume, litres). Створіть клас Car, який успадковує обидва класи Vehicle та Engine. Продемонструйте використання множинної спадковості, створивши обʼєкт класу Car та отримавши mro для цього класу."
      ],
      "metadata": {
        "id": "lmV8pAwwNIqu"
      }
    },
    {
      "cell_type": "code",
      "source": [
        "class Vehicle:\n",
        "    def __init__(self, brand, production_age):\n",
        "        self.brand = brand\n",
        "        self.production_age = production_age\n",
        "\n",
        "class Engine:\n",
        "    def __init__(self, engine_type, size):\n",
        "        self.engine_type = engine_type\n",
        "        self.size = size\n",
        "\n",
        "class Car(Vehicle, Engine):\n",
        "    def __init__(self, brand, production_age, engine_type, size):\n",
        "        Vehicle.__init__(self, brand, production_age)\n",
        "        Engine.__init__(self, engine_type, size)\n",
        "\n",
        "\n",
        "my_car = Car(\"Student\", 19, \"Coffe\", 100)\n",
        "print(f\"Brand: {my_car.brand}, Production Age: {my_car.production_age} years, Engine Type: {my_car.engine_type}, Engine Size: {my_car.size} liters\")\n",
        "print(Car.mro())\n"
      ],
      "metadata": {
        "id": "R49grKlWNPeN",
        "colab": {
          "base_uri": "https://localhost:8080/"
        },
        "outputId": "26295b83-ab79-4613-8a0a-7b71439daf1c"
      },
      "execution_count": 27,
      "outputs": [
        {
          "output_type": "stream",
          "name": "stdout",
          "text": [
            "Brand: Student, Production Age: 19 years, Engine Type: Coffe, Engine Size: 100 liters\n",
            "[<class '__main__.Car'>, <class '__main__.Vehicle'>, <class '__main__.Engine'>, <class 'object'>]\n"
          ]
        }
      ]
    },
    {
      "cell_type": "markdown",
      "source": [
        "# II. Iterator"
      ],
      "metadata": {
        "id": "dIJyUiNBFG8G"
      }
    },
    {
      "cell_type": "markdown",
      "source": [
        "11. (4б). Визначте рядок(str) з 4ма різними за значенням символами. Створіть ітератор на основі цього рядка. Викличте 5 разів функцію next на ітераторі, 4ри перших з них огорніть у ф-цію print()."
      ],
      "metadata": {
        "id": "13vsm0NyKIzL"
      }
    },
    {
      "cell_type": "code",
      "source": [
        "my_string = \"A@s$\"\n",
        "my_string_iter = iter(my_string)\n",
        "print(next(my_string_iter))\n",
        "print(next(my_string_iter))\n",
        "print(next(my_string_iter))\n",
        "print(next(my_string_iter))\n",
        "next(my_string_iter)"
      ],
      "metadata": {
        "id": "81ntabAkKuz-",
        "colab": {
          "base_uri": "https://localhost:8080/",
          "height": 245
        },
        "outputId": "ef7321bd-49d7-4816-cd3d-1279a6354383"
      },
      "execution_count": 30,
      "outputs": [
        {
          "output_type": "stream",
          "name": "stdout",
          "text": [
            "A\n",
            "@\n",
            "s\n",
            "$\n"
          ]
        },
        {
          "output_type": "error",
          "ename": "StopIteration",
          "evalue": "",
          "traceback": [
            "\u001b[0;31m---------------------------------------------------------------------------\u001b[0m",
            "\u001b[0;31mStopIteration\u001b[0m                             Traceback (most recent call last)",
            "\u001b[0;32m<ipython-input-30-2429727c6bca>\u001b[0m in \u001b[0;36m<cell line: 0>\u001b[0;34m()\u001b[0m\n\u001b[1;32m      5\u001b[0m \u001b[0mprint\u001b[0m\u001b[0;34m(\u001b[0m\u001b[0mnext\u001b[0m\u001b[0;34m(\u001b[0m\u001b[0mmy_string_iter\u001b[0m\u001b[0;34m)\u001b[0m\u001b[0;34m)\u001b[0m\u001b[0;34m\u001b[0m\u001b[0;34m\u001b[0m\u001b[0m\n\u001b[1;32m      6\u001b[0m \u001b[0mprint\u001b[0m\u001b[0;34m(\u001b[0m\u001b[0mnext\u001b[0m\u001b[0;34m(\u001b[0m\u001b[0mmy_string_iter\u001b[0m\u001b[0;34m)\u001b[0m\u001b[0;34m)\u001b[0m\u001b[0;34m\u001b[0m\u001b[0;34m\u001b[0m\u001b[0m\n\u001b[0;32m----> 7\u001b[0;31m \u001b[0mnext\u001b[0m\u001b[0;34m(\u001b[0m\u001b[0mmy_string_iter\u001b[0m\u001b[0;34m)\u001b[0m\u001b[0;34m\u001b[0m\u001b[0;34m\u001b[0m\u001b[0m\n\u001b[0m",
            "\u001b[0;31mStopIteration\u001b[0m: "
          ]
        }
      ]
    },
    {
      "cell_type": "markdown",
      "source": [
        "А що якщо викликати цю ж функцію на рядку?"
      ],
      "metadata": {
        "id": "aekWHGXOLRsO"
      }
    },
    {
      "cell_type": "code",
      "source": [
        "next(my_string)"
      ],
      "metadata": {
        "id": "mxATGsErLV1i",
        "colab": {
          "base_uri": "https://localhost:8080/",
          "height": 141
        },
        "outputId": "53a3659c-c36f-4a8f-e966-fbba75a2d51a"
      },
      "execution_count": 31,
      "outputs": [
        {
          "output_type": "error",
          "ename": "TypeError",
          "evalue": "'str' object is not an iterator",
          "traceback": [
            "\u001b[0;31m---------------------------------------------------------------------------\u001b[0m",
            "\u001b[0;31mTypeError\u001b[0m                                 Traceback (most recent call last)",
            "\u001b[0;32m<ipython-input-31-536fe210e95a>\u001b[0m in \u001b[0;36m<cell line: 0>\u001b[0;34m()\u001b[0m\n\u001b[0;32m----> 1\u001b[0;31m \u001b[0mnext\u001b[0m\u001b[0;34m(\u001b[0m\u001b[0mmy_string\u001b[0m\u001b[0;34m)\u001b[0m\u001b[0;34m\u001b[0m\u001b[0;34m\u001b[0m\u001b[0m\n\u001b[0m",
            "\u001b[0;31mTypeError\u001b[0m: 'str' object is not an iterator"
          ]
        }
      ]
    },
    {
      "cell_type": "markdown",
      "source": [
        " 12. (5б). Опишіть своїми словами в одному реченні, як ви розумієте різницю між ітерабельними обʼєктами та ітераторами (можна на прикладі)."
      ],
      "metadata": {
        "id": "XwtMEopwJ4pH"
      }
    },
    {
      "cell_type": "markdown",
      "source": [
        "Ітератор це інструмент, який допомагає перебирати ітерабельні об'єкти. Наприклад книга (ітерабельний об'єкт) дає можливість перегортати сторінки, а закладка (ітератор) допомагає пам'ятати, на якій сторінці ви зупинилися, щоб продовжити з цього місця."
      ],
      "metadata": {
        "id": "-sHrODc3KFn8"
      }
    },
    {
      "cell_type": "markdown",
      "source": [
        "13. (11б). Створіть клас, що має визначений Iterator Protocol та при кожному виклику next повертає назву дня тижня, поки вони не вичерпаються. Зверніть увагу, що порядок має значення."
      ],
      "metadata": {
        "id": "E9qJWmNbK8Gl"
      }
    },
    {
      "cell_type": "code",
      "source": [
        "class WeekdayIterator:\n",
        "    def __init__(self):\n",
        "        self.days_of_week = ['Monday', 'Tuesday', 'Wednesday', 'Thursday', 'Friday', 'Saturday', 'Sunday']\n",
        "        self.index = 0\n",
        "\n",
        "    def __iter__(self):\n",
        "        return self\n",
        "\n",
        "    def __next__(self):\n",
        "        if self.index < len(self.days_of_week):\n",
        "            day = self.days_of_week[self.index]\n",
        "            self.index += 1\n",
        "            return day\n",
        "        else:\n",
        "            raise StopIteration\n",
        "\n",
        "\n",
        "weekday_iterator = WeekdayIterator()\n",
        "for day in weekday_iterator:\n",
        "    print(day)"
      ],
      "metadata": {
        "id": "cqx-g_RsLo6I",
        "colab": {
          "base_uri": "https://localhost:8080/"
        },
        "outputId": "038d069c-af03-4805-d66d-e23e3f2e335c"
      },
      "execution_count": 32,
      "outputs": [
        {
          "output_type": "stream",
          "name": "stdout",
          "text": [
            "Monday\n",
            "Tuesday\n",
            "Wednesday\n",
            "Thursday\n",
            "Friday\n",
            "Saturday\n",
            "Sunday\n"
          ]
        }
      ]
    },
    {
      "cell_type": "markdown",
      "source": [
        "# Вітаю! Ви велика(ий) молодець, що впоралась(вся). Похваліть себе та побалуйте чимось приємним. Я Вами пишаюся."
      ],
      "metadata": {
        "id": "Z3E3S_s1Fv7-"
      }
    }
  ]
}