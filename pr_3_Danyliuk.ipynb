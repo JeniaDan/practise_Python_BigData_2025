{
  "nbformat": 4,
  "nbformat_minor": 0,
  "metadata": {
    "colab": {
      "provenance": []
    },
    "kernelspec": {
      "name": "python3",
      "display_name": "Python 3"
    },
    "language_info": {
      "name": "python"
    }
  },
  "cells": [
    {
      "cell_type": "markdown",
      "source": [
        "# I. Оператори порівняння та логічні оператори. Умови."
      ],
      "metadata": {
        "id": "qDEi2Pi-4yUC"
      }
    },
    {
      "cell_type": "markdown",
      "source": [
        "1. (5б) Створіть цілочисленну змінну зі своїм щасливим або улюбленим числом. Напишіть код, який би автоматизовував наступну задачу.\n",
        "\n",
        "Якщо число парне, помножте його на 2 та виведіть результат на екран.\n",
        "\n",
        "Але якщо число непарне, помножте його на 3 та додайте 1 і виведіть на екран."
      ],
      "metadata": {
        "id": "3v8D4Dkm43Ua"
      }
    },
    {
      "cell_type": "code",
      "execution_count": null,
      "metadata": {
        "id": "dlVjc-Nu4bmb",
        "colab": {
          "base_uri": "https://localhost:8080/"
        },
        "outputId": "b82ac699-9ec3-4d55-f199-681707d81785"
      },
      "outputs": [
        {
          "output_type": "stream",
          "name": "stdout",
          "text": [
            "7.0\n"
          ]
        }
      ],
      "source": [
        "a=14\n",
        "\n",
        "if a%2 == 0:\n",
        "  res = a/2\n",
        "else:\n",
        "  res = a*3+1\n",
        "\n",
        "print(res)"
      ]
    },
    {
      "cell_type": "markdown",
      "source": [
        "2. (9б) Створіть змінну, що посилається на список. Якщо список пустий, додайте будь-який елемент у кінець списку. Якщо ж ні, то нічого не робіть."
      ],
      "metadata": {
        "id": "H669P0QK5BI_"
      }
    },
    {
      "cell_type": "code",
      "source": [
        "list_empty = []\n",
        "list_non_empty = [1,2]\n",
        "\n",
        "def ex_2(example_list):\n",
        "  if len(example_list) == 0:\n",
        "    example_list.append(\"empty\")\n",
        "  return example_list\n",
        "\n",
        "print(\"пустий:\")\n",
        "print(ex_2(list_empty))\n",
        "print(\"не пустий:\")\n",
        "print(ex_2(list_non_empty))"
      ],
      "metadata": {
        "id": "ecWlfra45f6E",
        "colab": {
          "base_uri": "https://localhost:8080/"
        },
        "outputId": "c2ff2510-40f6-4eac-e495-9bd5dfa58e42"
      },
      "execution_count": null,
      "outputs": [
        {
          "output_type": "stream",
          "name": "stdout",
          "text": [
            "пустий:\n",
            "['empty']\n",
            "не пустий:\n",
            "[1, 2]\n"
          ]
        }
      ]
    },
    {
      "cell_type": "markdown",
      "source": [
        "3. (13б) Створіть рядок зі своїм імʼям латинкою. Напишіть код, який би автоматизовував наступну задачу.\n",
        "\n",
        "Якщо в імені є літера \"а\"\n",
        " або \"i\", Виведіть на екран повідомлення \"A or I is in the name\".\n",
        "\n",
        "\n",
        "\n",
        "Якщо в імені є літери \"o\" та \"n\", Виведіть на екран повідомлення \"O and N is in the name\".\n",
        "\n",
        "Також якщо в імені немає літери \"о\", але є \"n\", Виведіть на екран повідомлення \"Only N is in the name\".\n",
        "\n",
        "В решті випадків виведіть на екран повідомлення \"There is no N in the name, but there might be O\".\n",
        "\n",
        "Зверніть увагу, що, наприклад, для імені \"Antonina\" буде виведено два повідомлення."
      ],
      "metadata": {
        "id": "h9Y3cMUd5h85"
      }
    },
    {
      "cell_type": "code",
      "source": [
        "name = \"Yevheniia\"\n",
        "if \"a\" in name.lower() or \"i\" in name.lower():\n",
        "    print(\"A or I is in the name\")\n",
        "\n",
        "if \"o\" in name.lower() and \"n\" in name.lower():\n",
        "    print(\"O and N is in the name\")\n",
        "\n",
        "if \"o\" not in name.lower() and \"n\" in name.lower():\n",
        "    print(\"Only N is in the name\")\n",
        "\n",
        "if \"n\" not in name.lower():\n",
        "    print(\"There is no N in the name, but there might be O\")"
      ],
      "metadata": {
        "id": "bUH4LUx35u52",
        "colab": {
          "base_uri": "https://localhost:8080/"
        },
        "outputId": "74608d22-fd16-4a1f-cdb7-18091d9dbca7"
      },
      "execution_count": null,
      "outputs": [
        {
          "output_type": "stream",
          "name": "stdout",
          "text": [
            "A or I is in the name\n",
            "Only N is in the name\n"
          ]
        }
      ]
    },
    {
      "cell_type": "markdown",
      "source": [
        "# II. Comprehensions."
      ],
      "metadata": {
        "id": "wPCXJv4354cU"
      }
    },
    {
      "cell_type": "markdown",
      "source": [
        "4. (5б) Створіть список, використовуючи if (не if-else), range та comprehension."
      ],
      "metadata": {
        "id": "jULLW5jN55Pw"
      }
    },
    {
      "cell_type": "code",
      "source": [
        "list_4ex= [x for x in range(51) if x % 5 == 0]\n",
        "\n",
        "print(list_4ex)"
      ],
      "metadata": {
        "id": "mlZalnVC6W3F",
        "colab": {
          "base_uri": "https://localhost:8080/"
        },
        "outputId": "05e39719-c348-481d-9d18-5f7bc32f0fa7"
      },
      "execution_count": null,
      "outputs": [
        {
          "output_type": "stream",
          "name": "stdout",
          "text": [
            "[0, 5, 10, 15, 20, 25, 30, 35, 40, 45, 50]\n"
          ]
        }
      ]
    },
    {
      "cell_type": "markdown",
      "source": [
        "5. (9б) Створіть словник, використовуючи dict comprehension, що містить if else. Коли слід використовувати comprehensions, а коли їх слід уникати?"
      ],
      "metadata": {
        "id": "LqhEQ4JW6XcC"
      }
    },
    {
      "cell_type": "code",
      "source": [
        "num_dict = {x: \"парне\" if x % 2 == 0 else \"непарне\" for x in range(1, 21)}\n",
        "\n",
        "print(num_dict)"
      ],
      "metadata": {
        "id": "1yVaFbOs6hta",
        "colab": {
          "base_uri": "https://localhost:8080/"
        },
        "outputId": "2569c744-0f3b-400e-ca25-a743a39e7713"
      },
      "execution_count": 2,
      "outputs": [
        {
          "output_type": "stream",
          "name": "stdout",
          "text": [
            "{1: 'непарне', 2: 'парне', 3: 'непарне', 4: 'парне', 5: 'непарне', 6: 'парне', 7: 'непарне', 8: 'парне', 9: 'непарне', 10: 'парне', 11: 'непарне', 12: 'парне', 13: 'непарне', 14: 'парне', 15: 'непарне', 16: 'парне', 17: 'непарне', 18: 'парне', 19: 'непарне', 20: 'парне'}\n"
          ]
        }
      ]
    },
    {
      "cell_type": "markdown",
      "source": [
        "Можна використовувати, коли логіка проста, щоб зменшитити кількість коду, але при важкій логіці код може стати нечитабельним"
      ],
      "metadata": {
        "id": "wbkzNhKq6hzz"
      }
    },
    {
      "cell_type": "markdown",
      "source": [
        "6. (9б) Створіть список з рядками та запишіть його у змінну. Створіть ще один список на основі попереднього, де кожен рядок буде містити тільки три перших заглавних символи. Наприклад: ['hello', 'i', 'dont', 'care'] -> ['HEL', 'I', 'DON', 'CAR']. Використання comprehensions обовʼязкове."
      ],
      "metadata": {
        "id": "ZlqB8G3G6lHP"
      }
    },
    {
      "cell_type": "code",
      "source": [
        "words = ['hello', 'i', 'dont', 'care']\n",
        "short_words = [word[:3].upper() for word in words]\n",
        "\n",
        "print(short_words)"
      ],
      "metadata": {
        "id": "nw6rz0bR60VC",
        "colab": {
          "base_uri": "https://localhost:8080/"
        },
        "outputId": "630d67aa-e001-4e69-8061-552f52cd2843"
      },
      "execution_count": 3,
      "outputs": [
        {
          "output_type": "stream",
          "name": "stdout",
          "text": [
            "['HEL', 'I', 'DON', 'CAR']\n"
          ]
        }
      ]
    },
    {
      "cell_type": "markdown",
      "source": [
        "# III. Цикли."
      ],
      "metadata": {
        "id": "Tj573IAH64Fz"
      }
    },
    {
      "cell_type": "markdown",
      "source": [
        "7. (5б) Продемонструйте роботу циклу while. Не можна використовувати True для запуску циклу, щоб уникнути безкінечного циклу!"
      ],
      "metadata": {
        "id": "tN_33xdE65H5"
      }
    },
    {
      "cell_type": "code",
      "source": [
        "a = 0\n",
        "\n",
        "while a<=10:\n",
        "  print(a,\"* 9 =\",a*9)\n",
        "  a=a+1"
      ],
      "metadata": {
        "id": "Kd9FO6yG63P5",
        "colab": {
          "base_uri": "https://localhost:8080/"
        },
        "outputId": "73f92ddc-051b-4916-b8ae-b88996f136c9"
      },
      "execution_count": 14,
      "outputs": [
        {
          "output_type": "stream",
          "name": "stdout",
          "text": [
            "0 * 9 = 0\n",
            "1 * 9 = 9\n",
            "2 * 9 = 18\n",
            "3 * 9 = 27\n",
            "4 * 9 = 36\n",
            "5 * 9 = 45\n",
            "6 * 9 = 54\n",
            "7 * 9 = 63\n",
            "8 * 9 = 72\n",
            "9 * 9 = 81\n",
            "10 * 9 = 90\n"
          ]
        }
      ]
    },
    {
      "cell_type": "markdown",
      "source": [
        "8. (5б) Напишіть програму, яка виведе на екран непарні числа в діапазоні від 0 до 20 включно."
      ],
      "metadata": {
        "id": "x2CmfZO-7pW0"
      }
    },
    {
      "cell_type": "code",
      "source": [
        "for num in range(21):\n",
        "    if num % 2 == 1:\n",
        "        print(num)"
      ],
      "metadata": {
        "id": "aCSRYA6s7tkF",
        "colab": {
          "base_uri": "https://localhost:8080/"
        },
        "outputId": "63270ac4-a21e-449d-b639-c4ff170072fa"
      },
      "execution_count": 17,
      "outputs": [
        {
          "output_type": "stream",
          "name": "stdout",
          "text": [
            "1\n",
            "3\n",
            "5\n",
            "7\n",
            "9\n",
            "11\n",
            "13\n",
            "15\n",
            "17\n",
            "19\n"
          ]
        }
      ]
    },
    {
      "cell_type": "code",
      "source": [
        "num = 0\n",
        "while num <= 20:\n",
        "    if num % 2 == 1:\n",
        "        print(num)\n",
        "    num += 1"
      ],
      "metadata": {
        "colab": {
          "base_uri": "https://localhost:8080/"
        },
        "id": "7bvLmrvSiOqZ",
        "outputId": "789ba0f1-0fbb-4c42-c77a-b3be1fc8ed4b"
      },
      "execution_count": 18,
      "outputs": [
        {
          "output_type": "stream",
          "name": "stdout",
          "text": [
            "1\n",
            "3\n",
            "5\n",
            "7\n",
            "9\n",
            "11\n",
            "13\n",
            "15\n",
            "17\n",
            "19\n"
          ]
        }
      ]
    },
    {
      "cell_type": "markdown",
      "source": [
        "9. (13б) Створіть список з елементами булевого типу або None. Використовуючи цикли, отримайте в результаті список з кортежами, де перший елемент кортежу - індекс(ціле число), а другий елемент - відповідне значення з першого списку.\n",
        "\n",
        "Наприклад, [True, True, None, False] -> [(0, True), (1, True), (2, None), (3, False)]"
      ],
      "metadata": {
        "id": "MDWNocZD7t_B"
      }
    },
    {
      "cell_type": "code",
      "source": [
        "val = [True, False, None, True, False, None]\n",
        "result = []\n",
        "\n",
        "for i in range(len(val)):\n",
        "    result.append((i, val[i]))\n",
        "\n",
        "print(result)"
      ],
      "metadata": {
        "id": "0EUyjMdp7yfh",
        "colab": {
          "base_uri": "https://localhost:8080/"
        },
        "outputId": "2aa09744-54f6-4615-af9c-14c4455e61dd"
      },
      "execution_count": 22,
      "outputs": [
        {
          "output_type": "stream",
          "name": "stdout",
          "text": [
            "[(0, True), (1, False), (2, None), (3, True), (4, False), (5, None)]\n"
          ]
        }
      ]
    },
    {
      "cell_type": "markdown",
      "source": [
        "10. (9б) Створіть словник, де ключі - назви книжок, а значення - їхня кількість у наявності в Вашій міні-бібліотеці. Бібліотека має містити щонайменше 6 книжок (6 пар значень у словнику) і щонайбільше 10 (пар значень). Використовуючи цикли, оновіть словник (не створюйте новий) так, щоби кількість книг у наявності збільшилося на 5 кожної книги. Наприклад,\n",
        "{'It': 3, 'Fault stars': 10, 'Bible': 17, 'Psychological romance': 4, 'Harry Potter': 13} -> {'It': 8, 'Fault stars': 15, 'Bible': 22, 'Psychological romance': 9, 'Harry Potter': 18}"
      ],
      "metadata": {
        "id": "-6XUqlcG7zKs"
      }
    },
    {
      "cell_type": "code",
      "source": [
        "lib = {\n",
        "    \"1984\": 1,\n",
        "    \"To Kill a Mockingbird\": 2,\n",
        "    \"The Great Gatsby\": 3,\n",
        "    \"Harry Potter and the Sorcerer’s Stone\": 4,\n",
        "    \"Pride and Prejudice\": 5,\n",
        "    \"The Catcher in the Rye\": 6,\n",
        "    \"Jane Eyre\": 7,\n",
        "    \"Animal Farm\": 9\n",
        "}\n",
        "\n",
        "for book in lib:\n",
        "    lib[book] += 5\n",
        "\n",
        "print(\"Оновлена бібліотека:\")\n",
        "for book, count in lib.items():\n",
        "    print(f\"{book}: {count}\")"
      ],
      "metadata": {
        "id": "Ceoj9wwb791q",
        "colab": {
          "base_uri": "https://localhost:8080/"
        },
        "outputId": "3e29bb5a-f1ab-4285-e8c9-ba9e1b60008c"
      },
      "execution_count": 24,
      "outputs": [
        {
          "output_type": "stream",
          "name": "stdout",
          "text": [
            "Оновлена бібліотека:\n",
            "1984: 6\n",
            "To Kill a Mockingbird: 7\n",
            "The Great Gatsby: 8\n",
            "Harry Potter and the Sorcerer’s Stone: 9\n",
            "Pride and Prejudice: 10\n",
            "The Catcher in the Rye: 11\n",
            "Jane Eyre: 12\n",
            "Animal Farm: 14\n"
          ]
        }
      ]
    },
    {
      "cell_type": "markdown",
      "source": [
        "11. (5б) Визначте цілочислену змінну n, що належить проміжку від 4 до 10 включно. Використовуючи цикли, виведіть в консоль наступний патерн.\n",
        "\n",
        "#\n",
        "##\n",
        "###\n",
        "####\n",
        "\n",
        "... #*n\n"
      ],
      "metadata": {
        "id": "QLzyJM288AC7"
      }
    },
    {
      "cell_type": "code",
      "source": [
        "n = 5\n",
        "\n",
        "for i in range(1, n+1):\n",
        "  print(\"#\" *i)"
      ],
      "metadata": {
        "id": "KOpng87s8Duz",
        "colab": {
          "base_uri": "https://localhost:8080/"
        },
        "outputId": "850d05ce-611f-45a1-931c-4ab4af696a88"
      },
      "execution_count": 26,
      "outputs": [
        {
          "output_type": "stream",
          "name": "stdout",
          "text": [
            "#\n",
            "##\n",
            "###\n",
            "####\n",
            "#####\n"
          ]
        }
      ]
    },
    {
      "cell_type": "markdown",
      "source": [
        "12. (13б) Гра \"Нумо вгадай\".\n",
        "Розробіть просту гру, де користувач має вгадати випадкове число від 1 до 100. Для генерації випадкового числа використовуйте функцію random.randint(a, b) (тут a та b включно). Для отримання числа з консолі використовуйте функцію input(), результат якої обовʼязково явно приведіть до типу int.\n",
        "\n",
        "Підказка: використовуйте цикл while та умови if-else, щоб повідомити користувачу піказки (напр. \"Більше\", \"Менше\") поки користувач не вгадає. По завершенню виведіть кількість спроб, які знадобилися для вгадування."
      ],
      "metadata": {
        "id": "_bd-bqAT8EHn"
      }
    },
    {
      "cell_type": "code",
      "source": [
        "import random\n",
        "\n",
        "num = random.randint(1, 100)\n",
        "n_try = 0\n",
        "end = False\n",
        "\n",
        "print(\"Число загадане\")\n",
        "\n",
        "while end == False:\n",
        "    guess = int(input(\"Введи свою відповідь: \"))\n",
        "    n_try += 1\n",
        "\n",
        "    if guess < num:\n",
        "        print(\"Більше!\")\n",
        "    elif guess > num:\n",
        "        print(\"Менше!\")\n",
        "    else:\n",
        "        print(\"Ти вгадав число\",num,\"за\",n_try,\"спроб\")\n",
        "        end = True"
      ],
      "metadata": {
        "id": "IK9nnxFK8Hkl",
        "colab": {
          "base_uri": "https://localhost:8080/"
        },
        "outputId": "e28c1896-5255-46ff-a29e-420b8b3e3c1a"
      },
      "execution_count": 2,
      "outputs": [
        {
          "output_type": "stream",
          "name": "stdout",
          "text": [
            "Число загадане\n",
            "Введи свою відповідь: 50\n",
            "Менше!\n",
            "Введи свою відповідь: 25\n",
            "Більше!\n",
            "Введи свою відповідь: 35\n",
            "Більше!\n",
            "Введи свою відповідь: 40\n",
            "Більше!\n",
            "Введи свою відповідь: 45\n",
            "Ти вгадав число 45 за 5 спроб\n"
          ]
        }
      ]
    },
    {
      "cell_type": "markdown",
      "source": [
        "# Вітаю! Ви велика(ий) молодець, що впоралась(вся). Похваліть себе та побалуйте чимось приємним. Я Вами пишаюся."
      ],
      "metadata": {
        "id": "PXoXWb7Z8IGi"
      }
    }
  ]
}